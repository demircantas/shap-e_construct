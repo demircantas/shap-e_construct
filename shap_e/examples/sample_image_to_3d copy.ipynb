{
 "cells": [
  {
   "cell_type": "code",
   "execution_count": 1,
   "id": "964ccced",
   "metadata": {},
   "outputs": [],
   "source": [
    "import torch\n",
    "\n",
    "from shap_e.diffusion.sample import sample_latents\n",
    "from shap_e.diffusion.gaussian_diffusion import diffusion_from_config\n",
    "from shap_e.models.download import load_model, load_config\n",
    "from shap_e.util.notebooks import create_pan_cameras, decode_latent_images, gif_widget\n",
    "from shap_e.util.image_util import load_image\n",
    "\n",
    "import os"
   ]
  },
  {
   "cell_type": "code",
   "execution_count": 9,
   "id": "8eed3a76",
   "metadata": {},
   "outputs": [],
   "source": [
    "device = torch.device('cuda' if torch.cuda.is_available() else 'cpu')"
   ]
  },
  {
   "cell_type": "markdown",
   "id": "a1570073",
   "metadata": {},
   "source": [
    "# load models"
   ]
  },
  {
   "cell_type": "code",
   "execution_count": 15,
   "id": "2d922637",
   "metadata": {},
   "outputs": [],
   "source": [
    "# xm is for rendering latents\n",
    "xm = load_model('transmitter', device=device)\n",
    "model = load_model('image300M', device=device)\n",
    "diffusion = diffusion_from_config(load_config('diffusion'))"
   ]
  },
  {
   "cell_type": "markdown",
   "id": "92a154c6",
   "metadata": {},
   "source": [
    "# compute latents from image\n",
    "- [-] As of March 25 2024, this cell is running very slow (19 minutes and still going for a single batch). I remember this step taking far less. Is this a problem with hyperparameters or a temporary issue with the kernel?\n",
    "    - [-] The hyperparameters are at default values.\n",
    "    - [-] Rendering interpolation takes a lot longer than rendering for a single object\n",
    "## computing time\n",
    "| batch size | time |\n",
    "| --- | --- |\n",
    "| 1 | 3m, 26s |\n"
   ]
  },
  {
   "cell_type": "code",
   "execution_count": null,
   "id": "53d329d0",
   "metadata": {},
   "outputs": [],
   "source": [
    "create_latent = False\n",
    "batch_size = 1\n",
    "guidance_scale = 3.0\n",
    "\n",
    "# To get the best result, you should remove the background and show only the object of interest to the model.\n",
    "# image = load_image(\"example_data/corgi.png\")\n",
    "# image = load_image(\"example_data/cube.png\")\n",
    "image = load_image(\"../../../content/cube_tall_bbg.png\")\n",
    "image = load_image(\"../../../content/cube_bbg.png\")\n",
    "\n",
    "if create_latent:\n",
    "    latents = sample_latents(\n",
    "        batch_size=batch_size,\n",
    "        model=model,\n",
    "        diffusion=diffusion,\n",
    "        guidance_scale=guidance_scale,\n",
    "        model_kwargs=dict(images=[image] * batch_size),\n",
    "        progress=True,\n",
    "        clip_denoised=True,\n",
    "        use_fp16=True,\n",
    "        use_karras=True,\n",
    "        karras_steps=64,\n",
    "        sigma_min=1e-3,\n",
    "        sigma_max=160,\n",
    "        s_churn=0,\n",
    "    )"
   ]
  },
  {
   "cell_type": "markdown",
   "id": "bf02fbab",
   "metadata": {},
   "source": [
    "# latent loading, manipulation, and visualization"
   ]
  },
  {
   "cell_type": "code",
   "execution_count": 16,
   "id": "408b601f",
   "metadata": {},
   "outputs": [],
   "source": [
    "\n",
    "# load latents from file\n",
    "if 0:\n",
    "    latents_cube = torch.load('../../../content/batch_output/chair_baby_1.npy')\n",
    "    latents_cube_tall = torch.load('../../../content/batch_output/chair_baby_2.npy')\n",
    "    # latents_cube_tall = torch.load('../../latents/cube_tall_latents.pt')\n",
    "    # print minimum and maximum values of latents\n",
    "    print(f'latents_cube min: {latents_cube.min()}')\n",
    "    print(f'latents_cube max: {latents_cube.max()}')\n",
    "    print(f'latents_cube_tall min: {latents_cube_tall.min()}')\n",
    "    print(f'latents_cube_tall max: {latents_cube_tall.max()}')"
   ]
  },
  {
   "cell_type": "code",
   "execution_count": 11,
   "id": "ebd4b5d3",
   "metadata": {},
   "outputs": [],
   "source": [
    "\n",
    "# function for plotting a histogram of latents\n",
    "def plot_hist(latents):\n",
    "    import matplotlib.pyplot as plt\n",
    "    plt.hist(latents.flatten().cpu().numpy(), bins=500)\n",
    "    plt.show()\n",
    "\n",
    "# function for interpolating among two latent vectors\n",
    "def interpolate_latents(lat_A, lat_B, intp_steps):\n",
    "    latents = []\n",
    "    for i in range(intp_steps):\n",
    "        latents.append(lat_A + (lat_B - lat_A) * i / intp_steps)\n",
    "    return latents\n",
    "\n",
    "# function for extrapolating from a latent vector\n",
    "def extrapolate_latents(lat_A, lat_B, extp_steps):\n",
    "    latents = []\n",
    "    for i in range(extp_steps):\n",
    "        latents.append(lat_B + (lat_B - lat_A) * i / extp_steps)\n",
    "    return latents\n",
    "\n",
    "# function for extracting transformation from two latent vectors\n",
    "def extract_transformation(lat_A, lat_B):\n",
    "    return lat_B - lat_A\n"
   ]
  },
  {
   "cell_type": "code",
   "execution_count": null,
   "id": "aeb7f997",
   "metadata": {},
   "outputs": [],
   "source": [
    "latent_transform = extract_transformation(latents_cube[0], latents_cube_tall[0])\n",
    "# print the indices of five largest values in the latent_transform vector\n",
    "print(torch.topk(latent_transform, 5))\n",
    "\n",
    "plot_hist(latents_cube)\n",
    "plot_hist(latent_transform)"
   ]
  },
  {
   "cell_type": "code",
   "execution_count": 12,
   "id": "41dfed91",
   "metadata": {},
   "outputs": [
    {
     "data": {
      "text/plain": [
       "torch.Size([1048576])"
      ]
     },
     "execution_count": 12,
     "metadata": {},
     "output_type": "execute_result"
    }
   ],
   "source": [
    "latents_cube[0].shape"
   ]
  },
  {
   "cell_type": "code",
   "execution_count": 6,
   "id": "d6d8a40e",
   "metadata": {},
   "outputs": [],
   "source": [
    "# interpolate between two latents\n",
    "intp_latents = interpolate_latents(latents_cube, latents_cube_tall, 10)\n",
    "extp_latents = extrapolate_latents(latents_cube_tall, latents_cube, 10)"
   ]
  },
  {
   "cell_type": "code",
   "execution_count": 19,
   "id": "abf62fec",
   "metadata": {},
   "outputs": [
    {
     "name": "stdout",
     "output_type": "stream",
     "text": [
      "5\n"
     ]
    },
    {
     "data": {
      "text/plain": [
       "torch.Size([1, 1048576])"
      ]
     },
     "execution_count": 19,
     "metadata": {},
     "output_type": "execute_result"
    }
   ],
   "source": [
    "print(len(intp_latents))\n",
    "intp_latents[0].shape"
   ]
  },
  {
   "cell_type": "markdown",
   "id": "65d2a887",
   "metadata": {},
   "source": [
    "# render latents\n",
    "\n",
    "## *render_transformation* function below took:\n",
    "\n",
    "| size | samples | time |\n",
    "| --- | --- | --- |\n",
    "| 32 | 5 | 15m21.0s |\n",
    "| 32 | 10 | 38m25.5s |\n",
    "| 32 | 10 | 54m50.5s |\n",
    "|___|___|___|\n",
    "| 64 | 20 | 14m5.7s |\n",
    "| 64 | 20 | 19m40.4s |\n",
    "| 64 | 20 | 31m.52.9s |"
   ]
  },
  {
   "cell_type": "code",
   "execution_count": 12,
   "id": "48f14a94",
   "metadata": {},
   "outputs": [],
   "source": [
    "render_mode = 'nerf' # you can change this to 'stf' for mesh rendering\n",
    "# size = 64 # this is the size of the renders; higher values take longer to render.\n",
    "size = 32 # this is the size of the renders; higher values take longer to render. 16 causes an assertion error.\n",
    "cameras = create_pan_cameras(size, device)"
   ]
  },
  {
   "cell_type": "code",
   "execution_count": 17,
   "id": "2f6f5d30",
   "metadata": {},
   "outputs": [],
   "source": [
    "# function for rendering interpolated or extrapolated latents\n",
    "def render_latents(latents):\n",
    "    for i, latent in enumerate(latents):\n",
    "        images = decode_latent_images(xm, latent, cameras, rendering_mode=render_mode)\n",
    "    return images\n",
    "    # images = []\n",
    "    # for latent in latents:\n",
    "    #     images.append(decode_latent_images(xm, latent, cameras, rendering_mode=render_mode))\n",
    "    #     # images[0].save('../../../content/{}_{}.gif'.format(name, i), save_all=True, append_images=images[1:], duration=100, loop=0)\n",
    "    # return images\n",
    "\n",
    "# function for rendering the interpolation between two latents as a single gif\n",
    "def render_transformation(latents, name):\n",
    "    # render the first frame from the first latent, second frame from the second latent, and so on\n",
    "    images = []\n",
    "    for i, latent in enumerate(latents):\n",
    "        images.append(decode_latent_images(xm, latent, cameras, rendering_mode=render_mode)[0])\n",
    "        \n",
    "    # write images to a gif\n",
    "    images[0].save('../../../content/{}.gif'.format(name), save_all=True, append_images=images[1:], duration=100, loop=0)"
   ]
  },
  {
   "cell_type": "code",
   "execution_count": 14,
   "id": "9a029946",
   "metadata": {},
   "outputs": [],
   "source": [
    "if 0:\n",
    "    render_transformation(intp_latents, 'transformation_render_test_baby')\n",
    "    # render_transformation(intp_latents[0:20], 'transformation_render_test_20_64_3')\n",
    "\n",
    "if 0:\n",
    "    # render_latents(extp_latents, size, 'cube_intp')\n",
    "    images = render_latents(latents)"
   ]
  },
  {
   "cell_type": "code",
   "execution_count": null,
   "id": "d89587cb",
   "metadata": {},
   "outputs": [],
   "source": [
    "# images[0].save('../../../content/{}_{}.gif'.format('cube_debug', '0'), save_all=True, append_images=images[1:], duration=100, loop=0)"
   ]
  },
  {
   "cell_type": "markdown",
   "id": "379cd568",
   "metadata": {},
   "source": [
    "- 17 minutes for size = 128\n",
    "- 12 minutes for size = 64\n",
    "- 50 seconds for size = 32"
   ]
  },
  {
   "cell_type": "markdown",
   "id": "ddb717d9",
   "metadata": {},
   "source": [
    "# save latents to file"
   ]
  },
  {
   "cell_type": "code",
   "execution_count": null,
   "id": "0259b2b2",
   "metadata": {},
   "outputs": [],
   "source": [
    "# save latents to file\n",
    "if 0:\n",
    "    torch.save(latents, '../../latents/cube_latents_bbg.pt')"
   ]
  },
  {
   "cell_type": "markdown",
   "id": "a3bac3ab",
   "metadata": {},
   "source": [
    "# Automation for folders"
   ]
  },
  {
   "cell_type": "code",
   "execution_count": 18,
   "id": "45809ab0",
   "metadata": {},
   "outputs": [
    {
     "name": "stdout",
     "output_type": "stream",
     "text": [
      "['cone_bbg.png', 'cone_tall_bbg.png']\n",
      "../../../content/batch_synthetic/cone_bbg.png\n"
     ]
    }
   ],
   "source": [
    "input_folder = \"../../../content/batch_synthetic\"\n",
    "output_folder = \"../../../content/batch_output\"\n",
    "\n",
    "image_files = [file for file in os.listdir(input_folder) if file.lower().endswith(('.png', '.jpg', '.jpeg'))]\n",
    "print(image_files)\n",
    "image_path = os.path.join(input_folder, image_files[0])\n",
    "print(image_path)"
   ]
  },
  {
   "cell_type": "code",
   "execution_count": 19,
   "id": "714713d6",
   "metadata": {},
   "outputs": [],
   "source": [
    "def process_images(input_folder, output_folder):\n",
    "    # Get a list of image files in the input folder\n",
    "    image_files = [file for file in os.listdir(input_folder) if file.lower().endswith(('.png', '.jpg', '.jpeg'))]\n",
    "\n",
    "    for image_file in image_files:\n",
    "        # Load the image\n",
    "        image_path = os.path.join(input_folder, image_file)\n",
    "        image = load_image(image_path)\n",
    "\n",
    "        batch_size = 1\n",
    "        guidance_scale = 3.0\n",
    "\n",
    "        # computing latent\n",
    "        latent_vector = sample_latents(\n",
    "            batch_size=batch_size,\n",
    "            model=model,\n",
    "            diffusion=diffusion,\n",
    "            guidance_scale=guidance_scale,\n",
    "            model_kwargs=dict(images=[image] * batch_size),\n",
    "            progress=True,\n",
    "            clip_denoised=True,\n",
    "            use_fp16=True,\n",
    "            use_karras=True,\n",
    "            karras_steps=64,\n",
    "            sigma_min=1e-3,\n",
    "            sigma_max=160,\n",
    "            s_churn=0,\n",
    "        )\n",
    "\n",
    "        gif = render_latents(latent_vector)\n",
    "\n",
    "        index = 0\n",
    "\n",
    "        # Save latent vector\n",
    "        latent_vector_path = os.path.join(output_folder, f\"{os.path.splitext(image_file)[0]}_{index}.npy\")\n",
    "\n",
    "        # Check if a file with same name and index exists and increment index and file name if it does\n",
    "        while os.path.exists(latent_vector_path):\n",
    "            index += 1\n",
    "            print(f\"File {latent_vector_path} already exists, incrementing index to {index}\")\n",
    "            latent_vector_path = os.path.join(output_folder, f\"{os.path.splitext(image_file)[0]}_{index}.npy\")\n",
    "        torch.save(latent_vector, latent_vector_path)\n",
    "        print(f\"Saved latent vector to {latent_vector_path}\")\n",
    "        del(latent_vector)\n",
    "\n",
    "        # Save GIF\n",
    "        gif_path = os.path.join(output_folder, f\"{os.path.splitext(image_file)[0]}_{index}.gif\")\n",
    "        gif[0].save(gif_path, save_all=True, append_images=gif[1:], duration=100, loop=0)\n",
    "        print(f\"Saved gif to {gif_path}\")\n",
    "        del(gif)\n"
   ]
  },
  {
   "cell_type": "markdown",
   "id": "8eaf9e9a",
   "metadata": {},
   "source": [
    "- 9m 13.0s\n",
    "- 92m 45.6s (for 48 runs)"
   ]
  },
  {
   "cell_type": "code",
   "execution_count": 20,
   "id": "16022828",
   "metadata": {},
   "outputs": [
    {
     "data": {
      "application/vnd.jupyter.widget-view+json": {
       "model_id": "2d7896465b674cb88027606db6bcee8c",
       "version_major": 2,
       "version_minor": 0
      },
      "text/plain": [
       "  0%|          | 0/64 [00:00<?, ?it/s]"
      ]
     },
     "metadata": {},
     "output_type": "display_data"
    },
    {
     "name": "stdout",
     "output_type": "stream",
     "text": [
      "Saved latent vector to ../../../content/batch_output/cone_bbg_0.npy\n",
      "Saved gif to ../../../content/batch_output/cone_bbg_0.gif\n"
     ]
    },
    {
     "data": {
      "application/vnd.jupyter.widget-view+json": {
       "model_id": "adc6528c93a54c17921182a7e96810cd",
       "version_major": 2,
       "version_minor": 0
      },
      "text/plain": [
       "  0%|          | 0/64 [00:00<?, ?it/s]"
      ]
     },
     "metadata": {},
     "output_type": "display_data"
    },
    {
     "name": "stdout",
     "output_type": "stream",
     "text": [
      "Saved latent vector to ../../../content/batch_output/cone_tall_bbg_0.npy\n",
      "Saved gif to ../../../content/batch_output/cone_tall_bbg_0.gif\n"
     ]
    },
    {
     "data": {
      "application/vnd.jupyter.widget-view+json": {
       "model_id": "4ed9e591f42f4a798cb7515cbfb9c96e",
       "version_major": 2,
       "version_minor": 0
      },
      "text/plain": [
       "  0%|          | 0/64 [00:00<?, ?it/s]"
      ]
     },
     "metadata": {},
     "output_type": "display_data"
    },
    {
     "name": "stdout",
     "output_type": "stream",
     "text": [
      "File ../../../content/batch_output/cone_bbg_0.npy already exists, incrementing index to 1\n",
      "Saved latent vector to ../../../content/batch_output/cone_bbg_1.npy\n",
      "Saved gif to ../../../content/batch_output/cone_bbg_1.gif\n"
     ]
    },
    {
     "data": {
      "application/vnd.jupyter.widget-view+json": {
       "model_id": "aec8dee8c9f9491ba5da5febeaa6f26a",
       "version_major": 2,
       "version_minor": 0
      },
      "text/plain": [
       "  0%|          | 0/64 [00:00<?, ?it/s]"
      ]
     },
     "metadata": {},
     "output_type": "display_data"
    },
    {
     "name": "stdout",
     "output_type": "stream",
     "text": [
      "File ../../../content/batch_output/cone_tall_bbg_0.npy already exists, incrementing index to 1\n",
      "Saved latent vector to ../../../content/batch_output/cone_tall_bbg_1.npy\n",
      "Saved gif to ../../../content/batch_output/cone_tall_bbg_1.gif\n"
     ]
    },
    {
     "data": {
      "application/vnd.jupyter.widget-view+json": {
       "model_id": "28931ea30107401087c922b174d0f630",
       "version_major": 2,
       "version_minor": 0
      },
      "text/plain": [
       "  0%|          | 0/64 [00:00<?, ?it/s]"
      ]
     },
     "metadata": {},
     "output_type": "display_data"
    },
    {
     "name": "stdout",
     "output_type": "stream",
     "text": [
      "File ../../../content/batch_output/cone_bbg_0.npy already exists, incrementing index to 1\n",
      "File ../../../content/batch_output/cone_bbg_1.npy already exists, incrementing index to 2\n",
      "Saved latent vector to ../../../content/batch_output/cone_bbg_2.npy\n",
      "Saved gif to ../../../content/batch_output/cone_bbg_2.gif\n"
     ]
    },
    {
     "data": {
      "application/vnd.jupyter.widget-view+json": {
       "model_id": "4778d970a6d64d4ba1d34cee4207d4d7",
       "version_major": 2,
       "version_minor": 0
      },
      "text/plain": [
       "  0%|          | 0/64 [00:00<?, ?it/s]"
      ]
     },
     "metadata": {},
     "output_type": "display_data"
    },
    {
     "name": "stdout",
     "output_type": "stream",
     "text": [
      "File ../../../content/batch_output/cone_tall_bbg_0.npy already exists, incrementing index to 1\n",
      "File ../../../content/batch_output/cone_tall_bbg_1.npy already exists, incrementing index to 2\n",
      "Saved latent vector to ../../../content/batch_output/cone_tall_bbg_2.npy\n",
      "Saved gif to ../../../content/batch_output/cone_tall_bbg_2.gif\n"
     ]
    }
   ],
   "source": [
    "# input_folder = \"../../../content/batch_sourceimages\"\n",
    "# input_folder = \"../../../content/batch_web\"\n",
    "input_folder = \"../../../content/batch_synthetic\"\n",
    "output_folder = \"../../../content/batch_output\"\n",
    "for i in range(3):\n",
    "    process_images(input_folder, output_folder)"
   ]
  },
  {
   "cell_type": "code",
   "execution_count": 21,
   "id": "773a7614",
   "metadata": {},
   "outputs": [
    {
     "data": {
      "application/vnd.jupyter.widget-view+json": {
       "model_id": "f32c14c7328b491b929bfb85cda96f7f",
       "version_major": 2,
       "version_minor": 0
      },
      "text/plain": [
       "  0%|          | 0/64 [00:00<?, ?it/s]"
      ]
     },
     "metadata": {},
     "output_type": "display_data"
    },
    {
     "name": "stdout",
     "output_type": "stream",
     "text": [
      "File ../../../content/batch_output/cone_bbg_0.npy already exists, incrementing index to 1\n",
      "File ../../../content/batch_output/cone_bbg_1.npy already exists, incrementing index to 2\n",
      "File ../../../content/batch_output/cone_bbg_2.npy already exists, incrementing index to 3\n",
      "Saved latent vector to ../../../content/batch_output/cone_bbg_3.npy\n",
      "Saved gif to ../../../content/batch_output/cone_bbg_3.gif\n"
     ]
    },
    {
     "data": {
      "application/vnd.jupyter.widget-view+json": {
       "model_id": "a1b7132436e8439c9354469180a9adb4",
       "version_major": 2,
       "version_minor": 0
      },
      "text/plain": [
       "  0%|          | 0/64 [00:00<?, ?it/s]"
      ]
     },
     "metadata": {},
     "output_type": "display_data"
    },
    {
     "name": "stdout",
     "output_type": "stream",
     "text": [
      "File ../../../content/batch_output/cone_tall_bbg_0.npy already exists, incrementing index to 1\n",
      "File ../../../content/batch_output/cone_tall_bbg_1.npy already exists, incrementing index to 2\n",
      "File ../../../content/batch_output/cone_tall_bbg_2.npy already exists, incrementing index to 3\n",
      "Saved latent vector to ../../../content/batch_output/cone_tall_bbg_3.npy\n",
      "Saved gif to ../../../content/batch_output/cone_tall_bbg_3.gif\n"
     ]
    },
    {
     "data": {
      "application/vnd.jupyter.widget-view+json": {
       "model_id": "7047e4b1f2284dab8ffb0161ce51460f",
       "version_major": 2,
       "version_minor": 0
      },
      "text/plain": [
       "  0%|          | 0/64 [00:00<?, ?it/s]"
      ]
     },
     "metadata": {},
     "output_type": "display_data"
    },
    {
     "name": "stdout",
     "output_type": "stream",
     "text": [
      "File ../../../content/batch_output/cone_bbg_0.npy already exists, incrementing index to 1\n",
      "File ../../../content/batch_output/cone_bbg_1.npy already exists, incrementing index to 2\n",
      "File ../../../content/batch_output/cone_bbg_2.npy already exists, incrementing index to 3\n",
      "File ../../../content/batch_output/cone_bbg_3.npy already exists, incrementing index to 4\n",
      "Saved latent vector to ../../../content/batch_output/cone_bbg_4.npy\n",
      "Saved gif to ../../../content/batch_output/cone_bbg_4.gif\n"
     ]
    },
    {
     "data": {
      "application/vnd.jupyter.widget-view+json": {
       "model_id": "596a3dcc635447a3a5b400ebd0b289b7",
       "version_major": 2,
       "version_minor": 0
      },
      "text/plain": [
       "  0%|          | 0/64 [00:00<?, ?it/s]"
      ]
     },
     "metadata": {},
     "output_type": "display_data"
    },
    {
     "name": "stdout",
     "output_type": "stream",
     "text": [
      "File ../../../content/batch_output/cone_tall_bbg_0.npy already exists, incrementing index to 1\n",
      "File ../../../content/batch_output/cone_tall_bbg_1.npy already exists, incrementing index to 2\n",
      "File ../../../content/batch_output/cone_tall_bbg_2.npy already exists, incrementing index to 3\n",
      "File ../../../content/batch_output/cone_tall_bbg_3.npy already exists, incrementing index to 4\n",
      "Saved latent vector to ../../../content/batch_output/cone_tall_bbg_4.npy\n",
      "Saved gif to ../../../content/batch_output/cone_tall_bbg_4.gif\n"
     ]
    },
    {
     "data": {
      "application/vnd.jupyter.widget-view+json": {
       "model_id": "2ef2ce8ed86745c89447aa2bce274fba",
       "version_major": 2,
       "version_minor": 0
      },
      "text/plain": [
       "  0%|          | 0/64 [00:00<?, ?it/s]"
      ]
     },
     "metadata": {},
     "output_type": "display_data"
    },
    {
     "name": "stdout",
     "output_type": "stream",
     "text": [
      "File ../../../content/batch_output/cone_bbg_0.npy already exists, incrementing index to 1\n",
      "File ../../../content/batch_output/cone_bbg_1.npy already exists, incrementing index to 2\n",
      "File ../../../content/batch_output/cone_bbg_2.npy already exists, incrementing index to 3\n",
      "File ../../../content/batch_output/cone_bbg_3.npy already exists, incrementing index to 4\n",
      "File ../../../content/batch_output/cone_bbg_4.npy already exists, incrementing index to 5\n",
      "Saved latent vector to ../../../content/batch_output/cone_bbg_5.npy\n",
      "Saved gif to ../../../content/batch_output/cone_bbg_5.gif\n"
     ]
    },
    {
     "data": {
      "application/vnd.jupyter.widget-view+json": {
       "model_id": "765b726aab504f8fb066f15168c9bc4d",
       "version_major": 2,
       "version_minor": 0
      },
      "text/plain": [
       "  0%|          | 0/64 [00:00<?, ?it/s]"
      ]
     },
     "metadata": {},
     "output_type": "display_data"
    },
    {
     "name": "stdout",
     "output_type": "stream",
     "text": [
      "File ../../../content/batch_output/cone_tall_bbg_0.npy already exists, incrementing index to 1\n",
      "File ../../../content/batch_output/cone_tall_bbg_1.npy already exists, incrementing index to 2\n",
      "File ../../../content/batch_output/cone_tall_bbg_2.npy already exists, incrementing index to 3\n",
      "File ../../../content/batch_output/cone_tall_bbg_3.npy already exists, incrementing index to 4\n",
      "File ../../../content/batch_output/cone_tall_bbg_4.npy already exists, incrementing index to 5\n",
      "Saved latent vector to ../../../content/batch_output/cone_tall_bbg_5.npy\n",
      "Saved gif to ../../../content/batch_output/cone_tall_bbg_5.gif\n"
     ]
    },
    {
     "data": {
      "application/vnd.jupyter.widget-view+json": {
       "model_id": "6eb819f934a74f968dfd0589da84c29e",
       "version_major": 2,
       "version_minor": 0
      },
      "text/plain": [
       "  0%|          | 0/64 [00:00<?, ?it/s]"
      ]
     },
     "metadata": {},
     "output_type": "display_data"
    },
    {
     "name": "stdout",
     "output_type": "stream",
     "text": [
      "File ../../../content/batch_output/cone_bbg_0.npy already exists, incrementing index to 1\n",
      "File ../../../content/batch_output/cone_bbg_1.npy already exists, incrementing index to 2\n",
      "File ../../../content/batch_output/cone_bbg_2.npy already exists, incrementing index to 3\n",
      "File ../../../content/batch_output/cone_bbg_3.npy already exists, incrementing index to 4\n",
      "File ../../../content/batch_output/cone_bbg_4.npy already exists, incrementing index to 5\n",
      "File ../../../content/batch_output/cone_bbg_5.npy already exists, incrementing index to 6\n",
      "Saved latent vector to ../../../content/batch_output/cone_bbg_6.npy\n",
      "Saved gif to ../../../content/batch_output/cone_bbg_6.gif\n"
     ]
    },
    {
     "data": {
      "application/vnd.jupyter.widget-view+json": {
       "model_id": "db2965ec75ef4ed2933dba199ec33dac",
       "version_major": 2,
       "version_minor": 0
      },
      "text/plain": [
       "  0%|          | 0/64 [00:00<?, ?it/s]"
      ]
     },
     "metadata": {},
     "output_type": "display_data"
    },
    {
     "name": "stdout",
     "output_type": "stream",
     "text": [
      "File ../../../content/batch_output/cone_tall_bbg_0.npy already exists, incrementing index to 1\n",
      "File ../../../content/batch_output/cone_tall_bbg_1.npy already exists, incrementing index to 2\n",
      "File ../../../content/batch_output/cone_tall_bbg_2.npy already exists, incrementing index to 3\n",
      "File ../../../content/batch_output/cone_tall_bbg_3.npy already exists, incrementing index to 4\n",
      "File ../../../content/batch_output/cone_tall_bbg_4.npy already exists, incrementing index to 5\n",
      "File ../../../content/batch_output/cone_tall_bbg_5.npy already exists, incrementing index to 6\n",
      "Saved latent vector to ../../../content/batch_output/cone_tall_bbg_6.npy\n",
      "Saved gif to ../../../content/batch_output/cone_tall_bbg_6.gif\n"
     ]
    },
    {
     "data": {
      "application/vnd.jupyter.widget-view+json": {
       "model_id": "33f9f3a292e0470383e407760869248e",
       "version_major": 2,
       "version_minor": 0
      },
      "text/plain": [
       "  0%|          | 0/64 [00:00<?, ?it/s]"
      ]
     },
     "metadata": {},
     "output_type": "display_data"
    },
    {
     "name": "stdout",
     "output_type": "stream",
     "text": [
      "File ../../../content/batch_output/cone_bbg_0.npy already exists, incrementing index to 1\n",
      "File ../../../content/batch_output/cone_bbg_1.npy already exists, incrementing index to 2\n",
      "File ../../../content/batch_output/cone_bbg_2.npy already exists, incrementing index to 3\n",
      "File ../../../content/batch_output/cone_bbg_3.npy already exists, incrementing index to 4\n",
      "File ../../../content/batch_output/cone_bbg_4.npy already exists, incrementing index to 5\n",
      "File ../../../content/batch_output/cone_bbg_5.npy already exists, incrementing index to 6\n",
      "File ../../../content/batch_output/cone_bbg_6.npy already exists, incrementing index to 7\n",
      "Saved latent vector to ../../../content/batch_output/cone_bbg_7.npy\n",
      "Saved gif to ../../../content/batch_output/cone_bbg_7.gif\n"
     ]
    },
    {
     "data": {
      "application/vnd.jupyter.widget-view+json": {
       "model_id": "60152c5f5d084a5a9017354413fa99ed",
       "version_major": 2,
       "version_minor": 0
      },
      "text/plain": [
       "  0%|          | 0/64 [00:00<?, ?it/s]"
      ]
     },
     "metadata": {},
     "output_type": "display_data"
    },
    {
     "name": "stdout",
     "output_type": "stream",
     "text": [
      "File ../../../content/batch_output/cone_tall_bbg_0.npy already exists, incrementing index to 1\n",
      "File ../../../content/batch_output/cone_tall_bbg_1.npy already exists, incrementing index to 2\n",
      "File ../../../content/batch_output/cone_tall_bbg_2.npy already exists, incrementing index to 3\n",
      "File ../../../content/batch_output/cone_tall_bbg_3.npy already exists, incrementing index to 4\n",
      "File ../../../content/batch_output/cone_tall_bbg_4.npy already exists, incrementing index to 5\n",
      "File ../../../content/batch_output/cone_tall_bbg_5.npy already exists, incrementing index to 6\n",
      "File ../../../content/batch_output/cone_tall_bbg_6.npy already exists, incrementing index to 7\n",
      "Saved latent vector to ../../../content/batch_output/cone_tall_bbg_7.npy\n",
      "Saved gif to ../../../content/batch_output/cone_tall_bbg_7.gif\n"
     ]
    },
    {
     "data": {
      "application/vnd.jupyter.widget-view+json": {
       "model_id": "e6bfedc938c148bdab688baa828f1148",
       "version_major": 2,
       "version_minor": 0
      },
      "text/plain": [
       "  0%|          | 0/64 [00:00<?, ?it/s]"
      ]
     },
     "metadata": {},
     "output_type": "display_data"
    },
    {
     "name": "stdout",
     "output_type": "stream",
     "text": [
      "File ../../../content/batch_output/cone_bbg_0.npy already exists, incrementing index to 1\n",
      "File ../../../content/batch_output/cone_bbg_1.npy already exists, incrementing index to 2\n",
      "File ../../../content/batch_output/cone_bbg_2.npy already exists, incrementing index to 3\n",
      "File ../../../content/batch_output/cone_bbg_3.npy already exists, incrementing index to 4\n",
      "File ../../../content/batch_output/cone_bbg_4.npy already exists, incrementing index to 5\n",
      "File ../../../content/batch_output/cone_bbg_5.npy already exists, incrementing index to 6\n",
      "File ../../../content/batch_output/cone_bbg_6.npy already exists, incrementing index to 7\n",
      "File ../../../content/batch_output/cone_bbg_7.npy already exists, incrementing index to 8\n",
      "Saved latent vector to ../../../content/batch_output/cone_bbg_8.npy\n",
      "Saved gif to ../../../content/batch_output/cone_bbg_8.gif\n"
     ]
    },
    {
     "data": {
      "application/vnd.jupyter.widget-view+json": {
       "model_id": "365c41e73fb145c39690a52c3dc2d033",
       "version_major": 2,
       "version_minor": 0
      },
      "text/plain": [
       "  0%|          | 0/64 [00:00<?, ?it/s]"
      ]
     },
     "metadata": {},
     "output_type": "display_data"
    },
    {
     "name": "stdout",
     "output_type": "stream",
     "text": [
      "File ../../../content/batch_output/cone_tall_bbg_0.npy already exists, incrementing index to 1\n",
      "File ../../../content/batch_output/cone_tall_bbg_1.npy already exists, incrementing index to 2\n",
      "File ../../../content/batch_output/cone_tall_bbg_2.npy already exists, incrementing index to 3\n",
      "File ../../../content/batch_output/cone_tall_bbg_3.npy already exists, incrementing index to 4\n",
      "File ../../../content/batch_output/cone_tall_bbg_4.npy already exists, incrementing index to 5\n",
      "File ../../../content/batch_output/cone_tall_bbg_5.npy already exists, incrementing index to 6\n",
      "File ../../../content/batch_output/cone_tall_bbg_6.npy already exists, incrementing index to 7\n",
      "File ../../../content/batch_output/cone_tall_bbg_7.npy already exists, incrementing index to 8\n",
      "Saved latent vector to ../../../content/batch_output/cone_tall_bbg_8.npy\n",
      "Saved gif to ../../../content/batch_output/cone_tall_bbg_8.gif\n"
     ]
    },
    {
     "data": {
      "application/vnd.jupyter.widget-view+json": {
       "model_id": "0dce4ca77a6f494aad675532e7dc6220",
       "version_major": 2,
       "version_minor": 0
      },
      "text/plain": [
       "  0%|          | 0/64 [00:00<?, ?it/s]"
      ]
     },
     "metadata": {},
     "output_type": "display_data"
    },
    {
     "name": "stdout",
     "output_type": "stream",
     "text": [
      "File ../../../content/batch_output/cone_bbg_0.npy already exists, incrementing index to 1\n",
      "File ../../../content/batch_output/cone_bbg_1.npy already exists, incrementing index to 2\n",
      "File ../../../content/batch_output/cone_bbg_2.npy already exists, incrementing index to 3\n",
      "File ../../../content/batch_output/cone_bbg_3.npy already exists, incrementing index to 4\n",
      "File ../../../content/batch_output/cone_bbg_4.npy already exists, incrementing index to 5\n",
      "File ../../../content/batch_output/cone_bbg_5.npy already exists, incrementing index to 6\n",
      "File ../../../content/batch_output/cone_bbg_6.npy already exists, incrementing index to 7\n",
      "File ../../../content/batch_output/cone_bbg_7.npy already exists, incrementing index to 8\n",
      "File ../../../content/batch_output/cone_bbg_8.npy already exists, incrementing index to 9\n",
      "Saved latent vector to ../../../content/batch_output/cone_bbg_9.npy\n",
      "Saved gif to ../../../content/batch_output/cone_bbg_9.gif\n"
     ]
    },
    {
     "data": {
      "application/vnd.jupyter.widget-view+json": {
       "model_id": "d7b8859f0ebc4e62b3c4522af272b454",
       "version_major": 2,
       "version_minor": 0
      },
      "text/plain": [
       "  0%|          | 0/64 [00:00<?, ?it/s]"
      ]
     },
     "metadata": {},
     "output_type": "display_data"
    },
    {
     "name": "stdout",
     "output_type": "stream",
     "text": [
      "File ../../../content/batch_output/cone_tall_bbg_0.npy already exists, incrementing index to 1\n",
      "File ../../../content/batch_output/cone_tall_bbg_1.npy already exists, incrementing index to 2\n",
      "File ../../../content/batch_output/cone_tall_bbg_2.npy already exists, incrementing index to 3\n",
      "File ../../../content/batch_output/cone_tall_bbg_3.npy already exists, incrementing index to 4\n",
      "File ../../../content/batch_output/cone_tall_bbg_4.npy already exists, incrementing index to 5\n",
      "File ../../../content/batch_output/cone_tall_bbg_5.npy already exists, incrementing index to 6\n",
      "File ../../../content/batch_output/cone_tall_bbg_6.npy already exists, incrementing index to 7\n",
      "File ../../../content/batch_output/cone_tall_bbg_7.npy already exists, incrementing index to 8\n",
      "File ../../../content/batch_output/cone_tall_bbg_8.npy already exists, incrementing index to 9\n",
      "Saved latent vector to ../../../content/batch_output/cone_tall_bbg_9.npy\n",
      "Saved gif to ../../../content/batch_output/cone_tall_bbg_9.gif\n"
     ]
    },
    {
     "data": {
      "application/vnd.jupyter.widget-view+json": {
       "model_id": "399153f8c8d44af4b4c85a65dd10a8e6",
       "version_major": 2,
       "version_minor": 0
      },
      "text/plain": [
       "  0%|          | 0/64 [00:00<?, ?it/s]"
      ]
     },
     "metadata": {},
     "output_type": "display_data"
    },
    {
     "name": "stdout",
     "output_type": "stream",
     "text": [
      "File ../../../content/batch_output/cone_bbg_0.npy already exists, incrementing index to 1\n",
      "File ../../../content/batch_output/cone_bbg_1.npy already exists, incrementing index to 2\n",
      "File ../../../content/batch_output/cone_bbg_2.npy already exists, incrementing index to 3\n",
      "File ../../../content/batch_output/cone_bbg_3.npy already exists, incrementing index to 4\n",
      "File ../../../content/batch_output/cone_bbg_4.npy already exists, incrementing index to 5\n",
      "File ../../../content/batch_output/cone_bbg_5.npy already exists, incrementing index to 6\n",
      "File ../../../content/batch_output/cone_bbg_6.npy already exists, incrementing index to 7\n",
      "File ../../../content/batch_output/cone_bbg_7.npy already exists, incrementing index to 8\n",
      "File ../../../content/batch_output/cone_bbg_8.npy already exists, incrementing index to 9\n",
      "File ../../../content/batch_output/cone_bbg_9.npy already exists, incrementing index to 10\n",
      "Saved latent vector to ../../../content/batch_output/cone_bbg_10.npy\n",
      "Saved gif to ../../../content/batch_output/cone_bbg_10.gif\n"
     ]
    },
    {
     "data": {
      "application/vnd.jupyter.widget-view+json": {
       "model_id": "0ae7c4d830db4c6096dbd0f2029e5d2a",
       "version_major": 2,
       "version_minor": 0
      },
      "text/plain": [
       "  0%|          | 0/64 [00:00<?, ?it/s]"
      ]
     },
     "metadata": {},
     "output_type": "display_data"
    },
    {
     "name": "stdout",
     "output_type": "stream",
     "text": [
      "File ../../../content/batch_output/cone_tall_bbg_0.npy already exists, incrementing index to 1\n",
      "File ../../../content/batch_output/cone_tall_bbg_1.npy already exists, incrementing index to 2\n",
      "File ../../../content/batch_output/cone_tall_bbg_2.npy already exists, incrementing index to 3\n",
      "File ../../../content/batch_output/cone_tall_bbg_3.npy already exists, incrementing index to 4\n",
      "File ../../../content/batch_output/cone_tall_bbg_4.npy already exists, incrementing index to 5\n",
      "File ../../../content/batch_output/cone_tall_bbg_5.npy already exists, incrementing index to 6\n",
      "File ../../../content/batch_output/cone_tall_bbg_6.npy already exists, incrementing index to 7\n",
      "File ../../../content/batch_output/cone_tall_bbg_7.npy already exists, incrementing index to 8\n",
      "File ../../../content/batch_output/cone_tall_bbg_8.npy already exists, incrementing index to 9\n",
      "File ../../../content/batch_output/cone_tall_bbg_9.npy already exists, incrementing index to 10\n",
      "Saved latent vector to ../../../content/batch_output/cone_tall_bbg_10.npy\n",
      "Saved gif to ../../../content/batch_output/cone_tall_bbg_10.gif\n"
     ]
    },
    {
     "data": {
      "application/vnd.jupyter.widget-view+json": {
       "model_id": "1ea3f01588824e7c95355e392d9affd7",
       "version_major": 2,
       "version_minor": 0
      },
      "text/plain": [
       "  0%|          | 0/64 [00:00<?, ?it/s]"
      ]
     },
     "metadata": {},
     "output_type": "display_data"
    },
    {
     "name": "stdout",
     "output_type": "stream",
     "text": [
      "File ../../../content/batch_output/cone_bbg_0.npy already exists, incrementing index to 1\n",
      "File ../../../content/batch_output/cone_bbg_1.npy already exists, incrementing index to 2\n",
      "File ../../../content/batch_output/cone_bbg_2.npy already exists, incrementing index to 3\n",
      "File ../../../content/batch_output/cone_bbg_3.npy already exists, incrementing index to 4\n",
      "File ../../../content/batch_output/cone_bbg_4.npy already exists, incrementing index to 5\n",
      "File ../../../content/batch_output/cone_bbg_5.npy already exists, incrementing index to 6\n",
      "File ../../../content/batch_output/cone_bbg_6.npy already exists, incrementing index to 7\n",
      "File ../../../content/batch_output/cone_bbg_7.npy already exists, incrementing index to 8\n",
      "File ../../../content/batch_output/cone_bbg_8.npy already exists, incrementing index to 9\n",
      "File ../../../content/batch_output/cone_bbg_9.npy already exists, incrementing index to 10\n",
      "File ../../../content/batch_output/cone_bbg_10.npy already exists, incrementing index to 11\n",
      "Saved latent vector to ../../../content/batch_output/cone_bbg_11.npy\n",
      "Saved gif to ../../../content/batch_output/cone_bbg_11.gif\n"
     ]
    },
    {
     "data": {
      "application/vnd.jupyter.widget-view+json": {
       "model_id": "caac35328a4f4faf8744169dc4ded2fd",
       "version_major": 2,
       "version_minor": 0
      },
      "text/plain": [
       "  0%|          | 0/64 [00:00<?, ?it/s]"
      ]
     },
     "metadata": {},
     "output_type": "display_data"
    },
    {
     "name": "stdout",
     "output_type": "stream",
     "text": [
      "File ../../../content/batch_output/cone_tall_bbg_0.npy already exists, incrementing index to 1\n",
      "File ../../../content/batch_output/cone_tall_bbg_1.npy already exists, incrementing index to 2\n",
      "File ../../../content/batch_output/cone_tall_bbg_2.npy already exists, incrementing index to 3\n",
      "File ../../../content/batch_output/cone_tall_bbg_3.npy already exists, incrementing index to 4\n",
      "File ../../../content/batch_output/cone_tall_bbg_4.npy already exists, incrementing index to 5\n",
      "File ../../../content/batch_output/cone_tall_bbg_5.npy already exists, incrementing index to 6\n",
      "File ../../../content/batch_output/cone_tall_bbg_6.npy already exists, incrementing index to 7\n",
      "File ../../../content/batch_output/cone_tall_bbg_7.npy already exists, incrementing index to 8\n",
      "File ../../../content/batch_output/cone_tall_bbg_8.npy already exists, incrementing index to 9\n",
      "File ../../../content/batch_output/cone_tall_bbg_9.npy already exists, incrementing index to 10\n",
      "File ../../../content/batch_output/cone_tall_bbg_10.npy already exists, incrementing index to 11\n",
      "Saved latent vector to ../../../content/batch_output/cone_tall_bbg_11.npy\n",
      "Saved gif to ../../../content/batch_output/cone_tall_bbg_11.gif\n"
     ]
    },
    {
     "data": {
      "application/vnd.jupyter.widget-view+json": {
       "model_id": "264dec7e4fd748d2a388a8f3c27a7db2",
       "version_major": 2,
       "version_minor": 0
      },
      "text/plain": [
       "  0%|          | 0/64 [00:00<?, ?it/s]"
      ]
     },
     "metadata": {},
     "output_type": "display_data"
    },
    {
     "name": "stdout",
     "output_type": "stream",
     "text": [
      "File ../../../content/batch_output/cone_bbg_0.npy already exists, incrementing index to 1\n",
      "File ../../../content/batch_output/cone_bbg_1.npy already exists, incrementing index to 2\n",
      "File ../../../content/batch_output/cone_bbg_2.npy already exists, incrementing index to 3\n",
      "File ../../../content/batch_output/cone_bbg_3.npy already exists, incrementing index to 4\n",
      "File ../../../content/batch_output/cone_bbg_4.npy already exists, incrementing index to 5\n",
      "File ../../../content/batch_output/cone_bbg_5.npy already exists, incrementing index to 6\n",
      "File ../../../content/batch_output/cone_bbg_6.npy already exists, incrementing index to 7\n",
      "File ../../../content/batch_output/cone_bbg_7.npy already exists, incrementing index to 8\n",
      "File ../../../content/batch_output/cone_bbg_8.npy already exists, incrementing index to 9\n",
      "File ../../../content/batch_output/cone_bbg_9.npy already exists, incrementing index to 10\n",
      "File ../../../content/batch_output/cone_bbg_10.npy already exists, incrementing index to 11\n",
      "File ../../../content/batch_output/cone_bbg_11.npy already exists, incrementing index to 12\n",
      "Saved latent vector to ../../../content/batch_output/cone_bbg_12.npy\n",
      "Saved gif to ../../../content/batch_output/cone_bbg_12.gif\n"
     ]
    },
    {
     "data": {
      "application/vnd.jupyter.widget-view+json": {
       "model_id": "764a7a7fc36342b1bddca58ca71d208f",
       "version_major": 2,
       "version_minor": 0
      },
      "text/plain": [
       "  0%|          | 0/64 [00:00<?, ?it/s]"
      ]
     },
     "metadata": {},
     "output_type": "display_data"
    },
    {
     "name": "stdout",
     "output_type": "stream",
     "text": [
      "File ../../../content/batch_output/cone_tall_bbg_0.npy already exists, incrementing index to 1\n",
      "File ../../../content/batch_output/cone_tall_bbg_1.npy already exists, incrementing index to 2\n",
      "File ../../../content/batch_output/cone_tall_bbg_2.npy already exists, incrementing index to 3\n",
      "File ../../../content/batch_output/cone_tall_bbg_3.npy already exists, incrementing index to 4\n",
      "File ../../../content/batch_output/cone_tall_bbg_4.npy already exists, incrementing index to 5\n",
      "File ../../../content/batch_output/cone_tall_bbg_5.npy already exists, incrementing index to 6\n",
      "File ../../../content/batch_output/cone_tall_bbg_6.npy already exists, incrementing index to 7\n",
      "File ../../../content/batch_output/cone_tall_bbg_7.npy already exists, incrementing index to 8\n",
      "File ../../../content/batch_output/cone_tall_bbg_8.npy already exists, incrementing index to 9\n",
      "File ../../../content/batch_output/cone_tall_bbg_9.npy already exists, incrementing index to 10\n",
      "File ../../../content/batch_output/cone_tall_bbg_10.npy already exists, incrementing index to 11\n",
      "File ../../../content/batch_output/cone_tall_bbg_11.npy already exists, incrementing index to 12\n",
      "Saved latent vector to ../../../content/batch_output/cone_tall_bbg_12.npy\n",
      "Saved gif to ../../../content/batch_output/cone_tall_bbg_12.gif\n"
     ]
    },
    {
     "data": {
      "application/vnd.jupyter.widget-view+json": {
       "model_id": "54d961068efb4370b2999b022d1a3efa",
       "version_major": 2,
       "version_minor": 0
      },
      "text/plain": [
       "  0%|          | 0/64 [00:00<?, ?it/s]"
      ]
     },
     "metadata": {},
     "output_type": "display_data"
    },
    {
     "name": "stdout",
     "output_type": "stream",
     "text": [
      "File ../../../content/batch_output/cone_bbg_0.npy already exists, incrementing index to 1\n",
      "File ../../../content/batch_output/cone_bbg_1.npy already exists, incrementing index to 2\n",
      "File ../../../content/batch_output/cone_bbg_2.npy already exists, incrementing index to 3\n",
      "File ../../../content/batch_output/cone_bbg_3.npy already exists, incrementing index to 4\n",
      "File ../../../content/batch_output/cone_bbg_4.npy already exists, incrementing index to 5\n",
      "File ../../../content/batch_output/cone_bbg_5.npy already exists, incrementing index to 6\n",
      "File ../../../content/batch_output/cone_bbg_6.npy already exists, incrementing index to 7\n",
      "File ../../../content/batch_output/cone_bbg_7.npy already exists, incrementing index to 8\n",
      "File ../../../content/batch_output/cone_bbg_8.npy already exists, incrementing index to 9\n",
      "File ../../../content/batch_output/cone_bbg_9.npy already exists, incrementing index to 10\n",
      "File ../../../content/batch_output/cone_bbg_10.npy already exists, incrementing index to 11\n",
      "File ../../../content/batch_output/cone_bbg_11.npy already exists, incrementing index to 12\n",
      "File ../../../content/batch_output/cone_bbg_12.npy already exists, incrementing index to 13\n",
      "Saved latent vector to ../../../content/batch_output/cone_bbg_13.npy\n",
      "Saved gif to ../../../content/batch_output/cone_bbg_13.gif\n"
     ]
    },
    {
     "data": {
      "application/vnd.jupyter.widget-view+json": {
       "model_id": "0030affa5b564c4ab2f8aa71102e8c23",
       "version_major": 2,
       "version_minor": 0
      },
      "text/plain": [
       "  0%|          | 0/64 [00:00<?, ?it/s]"
      ]
     },
     "metadata": {},
     "output_type": "display_data"
    },
    {
     "name": "stdout",
     "output_type": "stream",
     "text": [
      "File ../../../content/batch_output/cone_tall_bbg_0.npy already exists, incrementing index to 1\n",
      "File ../../../content/batch_output/cone_tall_bbg_1.npy already exists, incrementing index to 2\n",
      "File ../../../content/batch_output/cone_tall_bbg_2.npy already exists, incrementing index to 3\n",
      "File ../../../content/batch_output/cone_tall_bbg_3.npy already exists, incrementing index to 4\n",
      "File ../../../content/batch_output/cone_tall_bbg_4.npy already exists, incrementing index to 5\n",
      "File ../../../content/batch_output/cone_tall_bbg_5.npy already exists, incrementing index to 6\n",
      "File ../../../content/batch_output/cone_tall_bbg_6.npy already exists, incrementing index to 7\n",
      "File ../../../content/batch_output/cone_tall_bbg_7.npy already exists, incrementing index to 8\n",
      "File ../../../content/batch_output/cone_tall_bbg_8.npy already exists, incrementing index to 9\n",
      "File ../../../content/batch_output/cone_tall_bbg_9.npy already exists, incrementing index to 10\n",
      "File ../../../content/batch_output/cone_tall_bbg_10.npy already exists, incrementing index to 11\n",
      "File ../../../content/batch_output/cone_tall_bbg_11.npy already exists, incrementing index to 12\n",
      "File ../../../content/batch_output/cone_tall_bbg_12.npy already exists, incrementing index to 13\n",
      "Saved latent vector to ../../../content/batch_output/cone_tall_bbg_13.npy\n",
      "Saved gif to ../../../content/batch_output/cone_tall_bbg_13.gif\n"
     ]
    },
    {
     "data": {
      "application/vnd.jupyter.widget-view+json": {
       "model_id": "11a6528b4c574765a5a3fc9edaaebb8f",
       "version_major": 2,
       "version_minor": 0
      },
      "text/plain": [
       "  0%|          | 0/64 [00:00<?, ?it/s]"
      ]
     },
     "metadata": {},
     "output_type": "display_data"
    },
    {
     "name": "stdout",
     "output_type": "stream",
     "text": [
      "File ../../../content/batch_output/cone_bbg_0.npy already exists, incrementing index to 1\n",
      "File ../../../content/batch_output/cone_bbg_1.npy already exists, incrementing index to 2\n",
      "File ../../../content/batch_output/cone_bbg_2.npy already exists, incrementing index to 3\n",
      "File ../../../content/batch_output/cone_bbg_3.npy already exists, incrementing index to 4\n",
      "File ../../../content/batch_output/cone_bbg_4.npy already exists, incrementing index to 5\n",
      "File ../../../content/batch_output/cone_bbg_5.npy already exists, incrementing index to 6\n",
      "File ../../../content/batch_output/cone_bbg_6.npy already exists, incrementing index to 7\n",
      "File ../../../content/batch_output/cone_bbg_7.npy already exists, incrementing index to 8\n",
      "File ../../../content/batch_output/cone_bbg_8.npy already exists, incrementing index to 9\n",
      "File ../../../content/batch_output/cone_bbg_9.npy already exists, incrementing index to 10\n",
      "File ../../../content/batch_output/cone_bbg_10.npy already exists, incrementing index to 11\n",
      "File ../../../content/batch_output/cone_bbg_11.npy already exists, incrementing index to 12\n",
      "File ../../../content/batch_output/cone_bbg_12.npy already exists, incrementing index to 13\n",
      "File ../../../content/batch_output/cone_bbg_13.npy already exists, incrementing index to 14\n",
      "Saved latent vector to ../../../content/batch_output/cone_bbg_14.npy\n",
      "Saved gif to ../../../content/batch_output/cone_bbg_14.gif\n"
     ]
    },
    {
     "data": {
      "application/vnd.jupyter.widget-view+json": {
       "model_id": "8ff39d3f21794dc785a68b73bc6a48e9",
       "version_major": 2,
       "version_minor": 0
      },
      "text/plain": [
       "  0%|          | 0/64 [00:00<?, ?it/s]"
      ]
     },
     "metadata": {},
     "output_type": "display_data"
    },
    {
     "name": "stdout",
     "output_type": "stream",
     "text": [
      "File ../../../content/batch_output/cone_tall_bbg_0.npy already exists, incrementing index to 1\n",
      "File ../../../content/batch_output/cone_tall_bbg_1.npy already exists, incrementing index to 2\n",
      "File ../../../content/batch_output/cone_tall_bbg_2.npy already exists, incrementing index to 3\n",
      "File ../../../content/batch_output/cone_tall_bbg_3.npy already exists, incrementing index to 4\n",
      "File ../../../content/batch_output/cone_tall_bbg_4.npy already exists, incrementing index to 5\n",
      "File ../../../content/batch_output/cone_tall_bbg_5.npy already exists, incrementing index to 6\n",
      "File ../../../content/batch_output/cone_tall_bbg_6.npy already exists, incrementing index to 7\n",
      "File ../../../content/batch_output/cone_tall_bbg_7.npy already exists, incrementing index to 8\n",
      "File ../../../content/batch_output/cone_tall_bbg_8.npy already exists, incrementing index to 9\n",
      "File ../../../content/batch_output/cone_tall_bbg_9.npy already exists, incrementing index to 10\n",
      "File ../../../content/batch_output/cone_tall_bbg_10.npy already exists, incrementing index to 11\n",
      "File ../../../content/batch_output/cone_tall_bbg_11.npy already exists, incrementing index to 12\n",
      "File ../../../content/batch_output/cone_tall_bbg_12.npy already exists, incrementing index to 13\n",
      "File ../../../content/batch_output/cone_tall_bbg_13.npy already exists, incrementing index to 14\n",
      "Saved latent vector to ../../../content/batch_output/cone_tall_bbg_14.npy\n",
      "Saved gif to ../../../content/batch_output/cone_tall_bbg_14.gif\n"
     ]
    },
    {
     "data": {
      "application/vnd.jupyter.widget-view+json": {
       "model_id": "29aeb1cc70a849b5a92cf6e4bd1d787f",
       "version_major": 2,
       "version_minor": 0
      },
      "text/plain": [
       "  0%|          | 0/64 [00:00<?, ?it/s]"
      ]
     },
     "metadata": {},
     "output_type": "display_data"
    },
    {
     "name": "stdout",
     "output_type": "stream",
     "text": [
      "File ../../../content/batch_output/cone_bbg_0.npy already exists, incrementing index to 1\n",
      "File ../../../content/batch_output/cone_bbg_1.npy already exists, incrementing index to 2\n",
      "File ../../../content/batch_output/cone_bbg_2.npy already exists, incrementing index to 3\n",
      "File ../../../content/batch_output/cone_bbg_3.npy already exists, incrementing index to 4\n",
      "File ../../../content/batch_output/cone_bbg_4.npy already exists, incrementing index to 5\n",
      "File ../../../content/batch_output/cone_bbg_5.npy already exists, incrementing index to 6\n",
      "File ../../../content/batch_output/cone_bbg_6.npy already exists, incrementing index to 7\n",
      "File ../../../content/batch_output/cone_bbg_7.npy already exists, incrementing index to 8\n",
      "File ../../../content/batch_output/cone_bbg_8.npy already exists, incrementing index to 9\n",
      "File ../../../content/batch_output/cone_bbg_9.npy already exists, incrementing index to 10\n",
      "File ../../../content/batch_output/cone_bbg_10.npy already exists, incrementing index to 11\n",
      "File ../../../content/batch_output/cone_bbg_11.npy already exists, incrementing index to 12\n",
      "File ../../../content/batch_output/cone_bbg_12.npy already exists, incrementing index to 13\n",
      "File ../../../content/batch_output/cone_bbg_13.npy already exists, incrementing index to 14\n",
      "File ../../../content/batch_output/cone_bbg_14.npy already exists, incrementing index to 15\n",
      "Saved latent vector to ../../../content/batch_output/cone_bbg_15.npy\n",
      "Saved gif to ../../../content/batch_output/cone_bbg_15.gif\n"
     ]
    },
    {
     "data": {
      "application/vnd.jupyter.widget-view+json": {
       "model_id": "7ddccc6748d34f77ac9b78809772f1e1",
       "version_major": 2,
       "version_minor": 0
      },
      "text/plain": [
       "  0%|          | 0/64 [00:00<?, ?it/s]"
      ]
     },
     "metadata": {},
     "output_type": "display_data"
    },
    {
     "name": "stdout",
     "output_type": "stream",
     "text": [
      "File ../../../content/batch_output/cone_tall_bbg_0.npy already exists, incrementing index to 1\n",
      "File ../../../content/batch_output/cone_tall_bbg_1.npy already exists, incrementing index to 2\n",
      "File ../../../content/batch_output/cone_tall_bbg_2.npy already exists, incrementing index to 3\n",
      "File ../../../content/batch_output/cone_tall_bbg_3.npy already exists, incrementing index to 4\n",
      "File ../../../content/batch_output/cone_tall_bbg_4.npy already exists, incrementing index to 5\n",
      "File ../../../content/batch_output/cone_tall_bbg_5.npy already exists, incrementing index to 6\n",
      "File ../../../content/batch_output/cone_tall_bbg_6.npy already exists, incrementing index to 7\n",
      "File ../../../content/batch_output/cone_tall_bbg_7.npy already exists, incrementing index to 8\n",
      "File ../../../content/batch_output/cone_tall_bbg_8.npy already exists, incrementing index to 9\n",
      "File ../../../content/batch_output/cone_tall_bbg_9.npy already exists, incrementing index to 10\n",
      "File ../../../content/batch_output/cone_tall_bbg_10.npy already exists, incrementing index to 11\n",
      "File ../../../content/batch_output/cone_tall_bbg_11.npy already exists, incrementing index to 12\n",
      "File ../../../content/batch_output/cone_tall_bbg_12.npy already exists, incrementing index to 13\n",
      "File ../../../content/batch_output/cone_tall_bbg_13.npy already exists, incrementing index to 14\n",
      "File ../../../content/batch_output/cone_tall_bbg_14.npy already exists, incrementing index to 15\n",
      "Saved latent vector to ../../../content/batch_output/cone_tall_bbg_15.npy\n",
      "Saved gif to ../../../content/batch_output/cone_tall_bbg_15.gif\n"
     ]
    },
    {
     "data": {
      "application/vnd.jupyter.widget-view+json": {
       "model_id": "3fb4a90c3ae24933921013c23fd7344f",
       "version_major": 2,
       "version_minor": 0
      },
      "text/plain": [
       "  0%|          | 0/64 [00:00<?, ?it/s]"
      ]
     },
     "metadata": {},
     "output_type": "display_data"
    },
    {
     "name": "stdout",
     "output_type": "stream",
     "text": [
      "File ../../../content/batch_output/cone_bbg_0.npy already exists, incrementing index to 1\n",
      "File ../../../content/batch_output/cone_bbg_1.npy already exists, incrementing index to 2\n",
      "File ../../../content/batch_output/cone_bbg_2.npy already exists, incrementing index to 3\n",
      "File ../../../content/batch_output/cone_bbg_3.npy already exists, incrementing index to 4\n",
      "File ../../../content/batch_output/cone_bbg_4.npy already exists, incrementing index to 5\n",
      "File ../../../content/batch_output/cone_bbg_5.npy already exists, incrementing index to 6\n",
      "File ../../../content/batch_output/cone_bbg_6.npy already exists, incrementing index to 7\n",
      "File ../../../content/batch_output/cone_bbg_7.npy already exists, incrementing index to 8\n",
      "File ../../../content/batch_output/cone_bbg_8.npy already exists, incrementing index to 9\n",
      "File ../../../content/batch_output/cone_bbg_9.npy already exists, incrementing index to 10\n",
      "File ../../../content/batch_output/cone_bbg_10.npy already exists, incrementing index to 11\n",
      "File ../../../content/batch_output/cone_bbg_11.npy already exists, incrementing index to 12\n",
      "File ../../../content/batch_output/cone_bbg_12.npy already exists, incrementing index to 13\n",
      "File ../../../content/batch_output/cone_bbg_13.npy already exists, incrementing index to 14\n",
      "File ../../../content/batch_output/cone_bbg_14.npy already exists, incrementing index to 15\n",
      "File ../../../content/batch_output/cone_bbg_15.npy already exists, incrementing index to 16\n",
      "Saved latent vector to ../../../content/batch_output/cone_bbg_16.npy\n",
      "Saved gif to ../../../content/batch_output/cone_bbg_16.gif\n"
     ]
    },
    {
     "data": {
      "application/vnd.jupyter.widget-view+json": {
       "model_id": "5208f91da51448fb972581207c9c7d40",
       "version_major": 2,
       "version_minor": 0
      },
      "text/plain": [
       "  0%|          | 0/64 [00:00<?, ?it/s]"
      ]
     },
     "metadata": {},
     "output_type": "display_data"
    },
    {
     "name": "stdout",
     "output_type": "stream",
     "text": [
      "File ../../../content/batch_output/cone_tall_bbg_0.npy already exists, incrementing index to 1\n",
      "File ../../../content/batch_output/cone_tall_bbg_1.npy already exists, incrementing index to 2\n",
      "File ../../../content/batch_output/cone_tall_bbg_2.npy already exists, incrementing index to 3\n",
      "File ../../../content/batch_output/cone_tall_bbg_3.npy already exists, incrementing index to 4\n",
      "File ../../../content/batch_output/cone_tall_bbg_4.npy already exists, incrementing index to 5\n",
      "File ../../../content/batch_output/cone_tall_bbg_5.npy already exists, incrementing index to 6\n",
      "File ../../../content/batch_output/cone_tall_bbg_6.npy already exists, incrementing index to 7\n",
      "File ../../../content/batch_output/cone_tall_bbg_7.npy already exists, incrementing index to 8\n",
      "File ../../../content/batch_output/cone_tall_bbg_8.npy already exists, incrementing index to 9\n",
      "File ../../../content/batch_output/cone_tall_bbg_9.npy already exists, incrementing index to 10\n",
      "File ../../../content/batch_output/cone_tall_bbg_10.npy already exists, incrementing index to 11\n",
      "File ../../../content/batch_output/cone_tall_bbg_11.npy already exists, incrementing index to 12\n",
      "File ../../../content/batch_output/cone_tall_bbg_12.npy already exists, incrementing index to 13\n",
      "File ../../../content/batch_output/cone_tall_bbg_13.npy already exists, incrementing index to 14\n",
      "File ../../../content/batch_output/cone_tall_bbg_14.npy already exists, incrementing index to 15\n",
      "File ../../../content/batch_output/cone_tall_bbg_15.npy already exists, incrementing index to 16\n",
      "Saved latent vector to ../../../content/batch_output/cone_tall_bbg_16.npy\n",
      "Saved gif to ../../../content/batch_output/cone_tall_bbg_16.gif\n"
     ]
    },
    {
     "data": {
      "application/vnd.jupyter.widget-view+json": {
       "model_id": "fb5a3b089e7c47ad819c183767f49b56",
       "version_major": 2,
       "version_minor": 0
      },
      "text/plain": [
       "  0%|          | 0/64 [00:00<?, ?it/s]"
      ]
     },
     "metadata": {},
     "output_type": "display_data"
    },
    {
     "name": "stdout",
     "output_type": "stream",
     "text": [
      "File ../../../content/batch_output/cone_bbg_0.npy already exists, incrementing index to 1\n",
      "File ../../../content/batch_output/cone_bbg_1.npy already exists, incrementing index to 2\n",
      "File ../../../content/batch_output/cone_bbg_2.npy already exists, incrementing index to 3\n",
      "File ../../../content/batch_output/cone_bbg_3.npy already exists, incrementing index to 4\n",
      "File ../../../content/batch_output/cone_bbg_4.npy already exists, incrementing index to 5\n",
      "File ../../../content/batch_output/cone_bbg_5.npy already exists, incrementing index to 6\n",
      "File ../../../content/batch_output/cone_bbg_6.npy already exists, incrementing index to 7\n",
      "File ../../../content/batch_output/cone_bbg_7.npy already exists, incrementing index to 8\n",
      "File ../../../content/batch_output/cone_bbg_8.npy already exists, incrementing index to 9\n",
      "File ../../../content/batch_output/cone_bbg_9.npy already exists, incrementing index to 10\n",
      "File ../../../content/batch_output/cone_bbg_10.npy already exists, incrementing index to 11\n",
      "File ../../../content/batch_output/cone_bbg_11.npy already exists, incrementing index to 12\n",
      "File ../../../content/batch_output/cone_bbg_12.npy already exists, incrementing index to 13\n",
      "File ../../../content/batch_output/cone_bbg_13.npy already exists, incrementing index to 14\n",
      "File ../../../content/batch_output/cone_bbg_14.npy already exists, incrementing index to 15\n",
      "File ../../../content/batch_output/cone_bbg_15.npy already exists, incrementing index to 16\n",
      "File ../../../content/batch_output/cone_bbg_16.npy already exists, incrementing index to 17\n",
      "Saved latent vector to ../../../content/batch_output/cone_bbg_17.npy\n",
      "Saved gif to ../../../content/batch_output/cone_bbg_17.gif\n"
     ]
    },
    {
     "data": {
      "application/vnd.jupyter.widget-view+json": {
       "model_id": "a95f707231c945b0977fd3e899922514",
       "version_major": 2,
       "version_minor": 0
      },
      "text/plain": [
       "  0%|          | 0/64 [00:00<?, ?it/s]"
      ]
     },
     "metadata": {},
     "output_type": "display_data"
    },
    {
     "name": "stdout",
     "output_type": "stream",
     "text": [
      "File ../../../content/batch_output/cone_tall_bbg_0.npy already exists, incrementing index to 1\n",
      "File ../../../content/batch_output/cone_tall_bbg_1.npy already exists, incrementing index to 2\n",
      "File ../../../content/batch_output/cone_tall_bbg_2.npy already exists, incrementing index to 3\n",
      "File ../../../content/batch_output/cone_tall_bbg_3.npy already exists, incrementing index to 4\n",
      "File ../../../content/batch_output/cone_tall_bbg_4.npy already exists, incrementing index to 5\n",
      "File ../../../content/batch_output/cone_tall_bbg_5.npy already exists, incrementing index to 6\n",
      "File ../../../content/batch_output/cone_tall_bbg_6.npy already exists, incrementing index to 7\n",
      "File ../../../content/batch_output/cone_tall_bbg_7.npy already exists, incrementing index to 8\n",
      "File ../../../content/batch_output/cone_tall_bbg_8.npy already exists, incrementing index to 9\n",
      "File ../../../content/batch_output/cone_tall_bbg_9.npy already exists, incrementing index to 10\n",
      "File ../../../content/batch_output/cone_tall_bbg_10.npy already exists, incrementing index to 11\n",
      "File ../../../content/batch_output/cone_tall_bbg_11.npy already exists, incrementing index to 12\n",
      "File ../../../content/batch_output/cone_tall_bbg_12.npy already exists, incrementing index to 13\n",
      "File ../../../content/batch_output/cone_tall_bbg_13.npy already exists, incrementing index to 14\n",
      "File ../../../content/batch_output/cone_tall_bbg_14.npy already exists, incrementing index to 15\n",
      "File ../../../content/batch_output/cone_tall_bbg_15.npy already exists, incrementing index to 16\n",
      "File ../../../content/batch_output/cone_tall_bbg_16.npy already exists, incrementing index to 17\n",
      "Saved latent vector to ../../../content/batch_output/cone_tall_bbg_17.npy\n",
      "Saved gif to ../../../content/batch_output/cone_tall_bbg_17.gif\n"
     ]
    },
    {
     "data": {
      "application/vnd.jupyter.widget-view+json": {
       "model_id": "34cf44c8464b44058068628512b52213",
       "version_major": 2,
       "version_minor": 0
      },
      "text/plain": [
       "  0%|          | 0/64 [00:00<?, ?it/s]"
      ]
     },
     "metadata": {},
     "output_type": "display_data"
    },
    {
     "name": "stdout",
     "output_type": "stream",
     "text": [
      "File ../../../content/batch_output/cone_bbg_0.npy already exists, incrementing index to 1\n",
      "File ../../../content/batch_output/cone_bbg_1.npy already exists, incrementing index to 2\n",
      "File ../../../content/batch_output/cone_bbg_2.npy already exists, incrementing index to 3\n",
      "File ../../../content/batch_output/cone_bbg_3.npy already exists, incrementing index to 4\n",
      "File ../../../content/batch_output/cone_bbg_4.npy already exists, incrementing index to 5\n",
      "File ../../../content/batch_output/cone_bbg_5.npy already exists, incrementing index to 6\n",
      "File ../../../content/batch_output/cone_bbg_6.npy already exists, incrementing index to 7\n",
      "File ../../../content/batch_output/cone_bbg_7.npy already exists, incrementing index to 8\n",
      "File ../../../content/batch_output/cone_bbg_8.npy already exists, incrementing index to 9\n",
      "File ../../../content/batch_output/cone_bbg_9.npy already exists, incrementing index to 10\n",
      "File ../../../content/batch_output/cone_bbg_10.npy already exists, incrementing index to 11\n",
      "File ../../../content/batch_output/cone_bbg_11.npy already exists, incrementing index to 12\n",
      "File ../../../content/batch_output/cone_bbg_12.npy already exists, incrementing index to 13\n",
      "File ../../../content/batch_output/cone_bbg_13.npy already exists, incrementing index to 14\n",
      "File ../../../content/batch_output/cone_bbg_14.npy already exists, incrementing index to 15\n",
      "File ../../../content/batch_output/cone_bbg_15.npy already exists, incrementing index to 16\n",
      "File ../../../content/batch_output/cone_bbg_16.npy already exists, incrementing index to 17\n",
      "File ../../../content/batch_output/cone_bbg_17.npy already exists, incrementing index to 18\n",
      "Saved latent vector to ../../../content/batch_output/cone_bbg_18.npy\n",
      "Saved gif to ../../../content/batch_output/cone_bbg_18.gif\n"
     ]
    },
    {
     "data": {
      "application/vnd.jupyter.widget-view+json": {
       "model_id": "dc14082c39c44fc2b3fb5273c73571df",
       "version_major": 2,
       "version_minor": 0
      },
      "text/plain": [
       "  0%|          | 0/64 [00:00<?, ?it/s]"
      ]
     },
     "metadata": {},
     "output_type": "display_data"
    },
    {
     "name": "stdout",
     "output_type": "stream",
     "text": [
      "File ../../../content/batch_output/cone_tall_bbg_0.npy already exists, incrementing index to 1\n",
      "File ../../../content/batch_output/cone_tall_bbg_1.npy already exists, incrementing index to 2\n",
      "File ../../../content/batch_output/cone_tall_bbg_2.npy already exists, incrementing index to 3\n",
      "File ../../../content/batch_output/cone_tall_bbg_3.npy already exists, incrementing index to 4\n",
      "File ../../../content/batch_output/cone_tall_bbg_4.npy already exists, incrementing index to 5\n",
      "File ../../../content/batch_output/cone_tall_bbg_5.npy already exists, incrementing index to 6\n",
      "File ../../../content/batch_output/cone_tall_bbg_6.npy already exists, incrementing index to 7\n",
      "File ../../../content/batch_output/cone_tall_bbg_7.npy already exists, incrementing index to 8\n",
      "File ../../../content/batch_output/cone_tall_bbg_8.npy already exists, incrementing index to 9\n",
      "File ../../../content/batch_output/cone_tall_bbg_9.npy already exists, incrementing index to 10\n",
      "File ../../../content/batch_output/cone_tall_bbg_10.npy already exists, incrementing index to 11\n",
      "File ../../../content/batch_output/cone_tall_bbg_11.npy already exists, incrementing index to 12\n",
      "File ../../../content/batch_output/cone_tall_bbg_12.npy already exists, incrementing index to 13\n",
      "File ../../../content/batch_output/cone_tall_bbg_13.npy already exists, incrementing index to 14\n",
      "File ../../../content/batch_output/cone_tall_bbg_14.npy already exists, incrementing index to 15\n",
      "File ../../../content/batch_output/cone_tall_bbg_15.npy already exists, incrementing index to 16\n",
      "File ../../../content/batch_output/cone_tall_bbg_16.npy already exists, incrementing index to 17\n",
      "File ../../../content/batch_output/cone_tall_bbg_17.npy already exists, incrementing index to 18\n",
      "Saved latent vector to ../../../content/batch_output/cone_tall_bbg_18.npy\n",
      "Saved gif to ../../../content/batch_output/cone_tall_bbg_18.gif\n"
     ]
    },
    {
     "data": {
      "application/vnd.jupyter.widget-view+json": {
       "model_id": "4acb1ea17ae14f53b4f29471435a1c4e",
       "version_major": 2,
       "version_minor": 0
      },
      "text/plain": [
       "  0%|          | 0/64 [00:00<?, ?it/s]"
      ]
     },
     "metadata": {},
     "output_type": "display_data"
    },
    {
     "name": "stdout",
     "output_type": "stream",
     "text": [
      "File ../../../content/batch_output/cone_bbg_0.npy already exists, incrementing index to 1\n",
      "File ../../../content/batch_output/cone_bbg_1.npy already exists, incrementing index to 2\n",
      "File ../../../content/batch_output/cone_bbg_2.npy already exists, incrementing index to 3\n",
      "File ../../../content/batch_output/cone_bbg_3.npy already exists, incrementing index to 4\n",
      "File ../../../content/batch_output/cone_bbg_4.npy already exists, incrementing index to 5\n",
      "File ../../../content/batch_output/cone_bbg_5.npy already exists, incrementing index to 6\n",
      "File ../../../content/batch_output/cone_bbg_6.npy already exists, incrementing index to 7\n",
      "File ../../../content/batch_output/cone_bbg_7.npy already exists, incrementing index to 8\n",
      "File ../../../content/batch_output/cone_bbg_8.npy already exists, incrementing index to 9\n",
      "File ../../../content/batch_output/cone_bbg_9.npy already exists, incrementing index to 10\n",
      "File ../../../content/batch_output/cone_bbg_10.npy already exists, incrementing index to 11\n",
      "File ../../../content/batch_output/cone_bbg_11.npy already exists, incrementing index to 12\n",
      "File ../../../content/batch_output/cone_bbg_12.npy already exists, incrementing index to 13\n",
      "File ../../../content/batch_output/cone_bbg_13.npy already exists, incrementing index to 14\n",
      "File ../../../content/batch_output/cone_bbg_14.npy already exists, incrementing index to 15\n",
      "File ../../../content/batch_output/cone_bbg_15.npy already exists, incrementing index to 16\n",
      "File ../../../content/batch_output/cone_bbg_16.npy already exists, incrementing index to 17\n",
      "File ../../../content/batch_output/cone_bbg_17.npy already exists, incrementing index to 18\n",
      "File ../../../content/batch_output/cone_bbg_18.npy already exists, incrementing index to 19\n",
      "Saved latent vector to ../../../content/batch_output/cone_bbg_19.npy\n",
      "Saved gif to ../../../content/batch_output/cone_bbg_19.gif\n"
     ]
    },
    {
     "data": {
      "application/vnd.jupyter.widget-view+json": {
       "model_id": "361144a8d8444381bd2644b1fa856e1a",
       "version_major": 2,
       "version_minor": 0
      },
      "text/plain": [
       "  0%|          | 0/64 [00:00<?, ?it/s]"
      ]
     },
     "metadata": {},
     "output_type": "display_data"
    },
    {
     "name": "stdout",
     "output_type": "stream",
     "text": [
      "File ../../../content/batch_output/cone_tall_bbg_0.npy already exists, incrementing index to 1\n",
      "File ../../../content/batch_output/cone_tall_bbg_1.npy already exists, incrementing index to 2\n",
      "File ../../../content/batch_output/cone_tall_bbg_2.npy already exists, incrementing index to 3\n",
      "File ../../../content/batch_output/cone_tall_bbg_3.npy already exists, incrementing index to 4\n",
      "File ../../../content/batch_output/cone_tall_bbg_4.npy already exists, incrementing index to 5\n",
      "File ../../../content/batch_output/cone_tall_bbg_5.npy already exists, incrementing index to 6\n",
      "File ../../../content/batch_output/cone_tall_bbg_6.npy already exists, incrementing index to 7\n",
      "File ../../../content/batch_output/cone_tall_bbg_7.npy already exists, incrementing index to 8\n",
      "File ../../../content/batch_output/cone_tall_bbg_8.npy already exists, incrementing index to 9\n",
      "File ../../../content/batch_output/cone_tall_bbg_9.npy already exists, incrementing index to 10\n",
      "File ../../../content/batch_output/cone_tall_bbg_10.npy already exists, incrementing index to 11\n",
      "File ../../../content/batch_output/cone_tall_bbg_11.npy already exists, incrementing index to 12\n",
      "File ../../../content/batch_output/cone_tall_bbg_12.npy already exists, incrementing index to 13\n",
      "File ../../../content/batch_output/cone_tall_bbg_13.npy already exists, incrementing index to 14\n",
      "File ../../../content/batch_output/cone_tall_bbg_14.npy already exists, incrementing index to 15\n",
      "File ../../../content/batch_output/cone_tall_bbg_15.npy already exists, incrementing index to 16\n",
      "File ../../../content/batch_output/cone_tall_bbg_16.npy already exists, incrementing index to 17\n",
      "File ../../../content/batch_output/cone_tall_bbg_17.npy already exists, incrementing index to 18\n",
      "File ../../../content/batch_output/cone_tall_bbg_18.npy already exists, incrementing index to 19\n",
      "Saved latent vector to ../../../content/batch_output/cone_tall_bbg_19.npy\n",
      "Saved gif to ../../../content/batch_output/cone_tall_bbg_19.gif\n"
     ]
    },
    {
     "data": {
      "application/vnd.jupyter.widget-view+json": {
       "model_id": "ccde5e6baf5f40ac9c1b6dcd13e485a3",
       "version_major": 2,
       "version_minor": 0
      },
      "text/plain": [
       "  0%|          | 0/64 [00:00<?, ?it/s]"
      ]
     },
     "metadata": {},
     "output_type": "display_data"
    },
    {
     "name": "stdout",
     "output_type": "stream",
     "text": [
      "File ../../../content/batch_output/cone_bbg_0.npy already exists, incrementing index to 1\n",
      "File ../../../content/batch_output/cone_bbg_1.npy already exists, incrementing index to 2\n",
      "File ../../../content/batch_output/cone_bbg_2.npy already exists, incrementing index to 3\n",
      "File ../../../content/batch_output/cone_bbg_3.npy already exists, incrementing index to 4\n",
      "File ../../../content/batch_output/cone_bbg_4.npy already exists, incrementing index to 5\n",
      "File ../../../content/batch_output/cone_bbg_5.npy already exists, incrementing index to 6\n",
      "File ../../../content/batch_output/cone_bbg_6.npy already exists, incrementing index to 7\n",
      "File ../../../content/batch_output/cone_bbg_7.npy already exists, incrementing index to 8\n",
      "File ../../../content/batch_output/cone_bbg_8.npy already exists, incrementing index to 9\n",
      "File ../../../content/batch_output/cone_bbg_9.npy already exists, incrementing index to 10\n",
      "File ../../../content/batch_output/cone_bbg_10.npy already exists, incrementing index to 11\n",
      "File ../../../content/batch_output/cone_bbg_11.npy already exists, incrementing index to 12\n",
      "File ../../../content/batch_output/cone_bbg_12.npy already exists, incrementing index to 13\n",
      "File ../../../content/batch_output/cone_bbg_13.npy already exists, incrementing index to 14\n",
      "File ../../../content/batch_output/cone_bbg_14.npy already exists, incrementing index to 15\n",
      "File ../../../content/batch_output/cone_bbg_15.npy already exists, incrementing index to 16\n",
      "File ../../../content/batch_output/cone_bbg_16.npy already exists, incrementing index to 17\n",
      "File ../../../content/batch_output/cone_bbg_17.npy already exists, incrementing index to 18\n",
      "File ../../../content/batch_output/cone_bbg_18.npy already exists, incrementing index to 19\n",
      "File ../../../content/batch_output/cone_bbg_19.npy already exists, incrementing index to 20\n",
      "Saved latent vector to ../../../content/batch_output/cone_bbg_20.npy\n",
      "Saved gif to ../../../content/batch_output/cone_bbg_20.gif\n"
     ]
    },
    {
     "data": {
      "application/vnd.jupyter.widget-view+json": {
       "model_id": "896da86392024529aaf8be1df85c070f",
       "version_major": 2,
       "version_minor": 0
      },
      "text/plain": [
       "  0%|          | 0/64 [00:00<?, ?it/s]"
      ]
     },
     "metadata": {},
     "output_type": "display_data"
    },
    {
     "name": "stdout",
     "output_type": "stream",
     "text": [
      "File ../../../content/batch_output/cone_tall_bbg_0.npy already exists, incrementing index to 1\n",
      "File ../../../content/batch_output/cone_tall_bbg_1.npy already exists, incrementing index to 2\n",
      "File ../../../content/batch_output/cone_tall_bbg_2.npy already exists, incrementing index to 3\n",
      "File ../../../content/batch_output/cone_tall_bbg_3.npy already exists, incrementing index to 4\n",
      "File ../../../content/batch_output/cone_tall_bbg_4.npy already exists, incrementing index to 5\n",
      "File ../../../content/batch_output/cone_tall_bbg_5.npy already exists, incrementing index to 6\n",
      "File ../../../content/batch_output/cone_tall_bbg_6.npy already exists, incrementing index to 7\n",
      "File ../../../content/batch_output/cone_tall_bbg_7.npy already exists, incrementing index to 8\n",
      "File ../../../content/batch_output/cone_tall_bbg_8.npy already exists, incrementing index to 9\n",
      "File ../../../content/batch_output/cone_tall_bbg_9.npy already exists, incrementing index to 10\n",
      "File ../../../content/batch_output/cone_tall_bbg_10.npy already exists, incrementing index to 11\n",
      "File ../../../content/batch_output/cone_tall_bbg_11.npy already exists, incrementing index to 12\n",
      "File ../../../content/batch_output/cone_tall_bbg_12.npy already exists, incrementing index to 13\n",
      "File ../../../content/batch_output/cone_tall_bbg_13.npy already exists, incrementing index to 14\n",
      "File ../../../content/batch_output/cone_tall_bbg_14.npy already exists, incrementing index to 15\n",
      "File ../../../content/batch_output/cone_tall_bbg_15.npy already exists, incrementing index to 16\n",
      "File ../../../content/batch_output/cone_tall_bbg_16.npy already exists, incrementing index to 17\n",
      "File ../../../content/batch_output/cone_tall_bbg_17.npy already exists, incrementing index to 18\n",
      "File ../../../content/batch_output/cone_tall_bbg_18.npy already exists, incrementing index to 19\n",
      "File ../../../content/batch_output/cone_tall_bbg_19.npy already exists, incrementing index to 20\n",
      "Saved latent vector to ../../../content/batch_output/cone_tall_bbg_20.npy\n",
      "Saved gif to ../../../content/batch_output/cone_tall_bbg_20.gif\n"
     ]
    },
    {
     "data": {
      "application/vnd.jupyter.widget-view+json": {
       "model_id": "c4c217f679f540d7847c47af1ed2334c",
       "version_major": 2,
       "version_minor": 0
      },
      "text/plain": [
       "  0%|          | 0/64 [00:00<?, ?it/s]"
      ]
     },
     "metadata": {},
     "output_type": "display_data"
    },
    {
     "name": "stdout",
     "output_type": "stream",
     "text": [
      "File ../../../content/batch_output/cone_bbg_0.npy already exists, incrementing index to 1\n",
      "File ../../../content/batch_output/cone_bbg_1.npy already exists, incrementing index to 2\n",
      "File ../../../content/batch_output/cone_bbg_2.npy already exists, incrementing index to 3\n",
      "File ../../../content/batch_output/cone_bbg_3.npy already exists, incrementing index to 4\n",
      "File ../../../content/batch_output/cone_bbg_4.npy already exists, incrementing index to 5\n",
      "File ../../../content/batch_output/cone_bbg_5.npy already exists, incrementing index to 6\n",
      "File ../../../content/batch_output/cone_bbg_6.npy already exists, incrementing index to 7\n",
      "File ../../../content/batch_output/cone_bbg_7.npy already exists, incrementing index to 8\n",
      "File ../../../content/batch_output/cone_bbg_8.npy already exists, incrementing index to 9\n",
      "File ../../../content/batch_output/cone_bbg_9.npy already exists, incrementing index to 10\n",
      "File ../../../content/batch_output/cone_bbg_10.npy already exists, incrementing index to 11\n",
      "File ../../../content/batch_output/cone_bbg_11.npy already exists, incrementing index to 12\n",
      "File ../../../content/batch_output/cone_bbg_12.npy already exists, incrementing index to 13\n",
      "File ../../../content/batch_output/cone_bbg_13.npy already exists, incrementing index to 14\n",
      "File ../../../content/batch_output/cone_bbg_14.npy already exists, incrementing index to 15\n",
      "File ../../../content/batch_output/cone_bbg_15.npy already exists, incrementing index to 16\n",
      "File ../../../content/batch_output/cone_bbg_16.npy already exists, incrementing index to 17\n",
      "File ../../../content/batch_output/cone_bbg_17.npy already exists, incrementing index to 18\n",
      "File ../../../content/batch_output/cone_bbg_18.npy already exists, incrementing index to 19\n",
      "File ../../../content/batch_output/cone_bbg_19.npy already exists, incrementing index to 20\n",
      "File ../../../content/batch_output/cone_bbg_20.npy already exists, incrementing index to 21\n",
      "Saved latent vector to ../../../content/batch_output/cone_bbg_21.npy\n",
      "Saved gif to ../../../content/batch_output/cone_bbg_21.gif\n"
     ]
    },
    {
     "data": {
      "application/vnd.jupyter.widget-view+json": {
       "model_id": "1bcae40f6bc8449f86240287f1997d94",
       "version_major": 2,
       "version_minor": 0
      },
      "text/plain": [
       "  0%|          | 0/64 [00:00<?, ?it/s]"
      ]
     },
     "metadata": {},
     "output_type": "display_data"
    },
    {
     "name": "stdout",
     "output_type": "stream",
     "text": [
      "File ../../../content/batch_output/cone_tall_bbg_0.npy already exists, incrementing index to 1\n",
      "File ../../../content/batch_output/cone_tall_bbg_1.npy already exists, incrementing index to 2\n",
      "File ../../../content/batch_output/cone_tall_bbg_2.npy already exists, incrementing index to 3\n",
      "File ../../../content/batch_output/cone_tall_bbg_3.npy already exists, incrementing index to 4\n",
      "File ../../../content/batch_output/cone_tall_bbg_4.npy already exists, incrementing index to 5\n",
      "File ../../../content/batch_output/cone_tall_bbg_5.npy already exists, incrementing index to 6\n",
      "File ../../../content/batch_output/cone_tall_bbg_6.npy already exists, incrementing index to 7\n",
      "File ../../../content/batch_output/cone_tall_bbg_7.npy already exists, incrementing index to 8\n",
      "File ../../../content/batch_output/cone_tall_bbg_8.npy already exists, incrementing index to 9\n",
      "File ../../../content/batch_output/cone_tall_bbg_9.npy already exists, incrementing index to 10\n",
      "File ../../../content/batch_output/cone_tall_bbg_10.npy already exists, incrementing index to 11\n",
      "File ../../../content/batch_output/cone_tall_bbg_11.npy already exists, incrementing index to 12\n",
      "File ../../../content/batch_output/cone_tall_bbg_12.npy already exists, incrementing index to 13\n",
      "File ../../../content/batch_output/cone_tall_bbg_13.npy already exists, incrementing index to 14\n",
      "File ../../../content/batch_output/cone_tall_bbg_14.npy already exists, incrementing index to 15\n",
      "File ../../../content/batch_output/cone_tall_bbg_15.npy already exists, incrementing index to 16\n",
      "File ../../../content/batch_output/cone_tall_bbg_16.npy already exists, incrementing index to 17\n",
      "File ../../../content/batch_output/cone_tall_bbg_17.npy already exists, incrementing index to 18\n",
      "File ../../../content/batch_output/cone_tall_bbg_18.npy already exists, incrementing index to 19\n",
      "File ../../../content/batch_output/cone_tall_bbg_19.npy already exists, incrementing index to 20\n",
      "File ../../../content/batch_output/cone_tall_bbg_20.npy already exists, incrementing index to 21\n",
      "Saved latent vector to ../../../content/batch_output/cone_tall_bbg_21.npy\n",
      "Saved gif to ../../../content/batch_output/cone_tall_bbg_21.gif\n"
     ]
    },
    {
     "data": {
      "application/vnd.jupyter.widget-view+json": {
       "model_id": "fd05cca5fb1a44a8889234671ded256b",
       "version_major": 2,
       "version_minor": 0
      },
      "text/plain": [
       "  0%|          | 0/64 [00:00<?, ?it/s]"
      ]
     },
     "metadata": {},
     "output_type": "display_data"
    },
    {
     "name": "stdout",
     "output_type": "stream",
     "text": [
      "File ../../../content/batch_output/cone_bbg_0.npy already exists, incrementing index to 1\n",
      "File ../../../content/batch_output/cone_bbg_1.npy already exists, incrementing index to 2\n",
      "File ../../../content/batch_output/cone_bbg_2.npy already exists, incrementing index to 3\n",
      "File ../../../content/batch_output/cone_bbg_3.npy already exists, incrementing index to 4\n",
      "File ../../../content/batch_output/cone_bbg_4.npy already exists, incrementing index to 5\n",
      "File ../../../content/batch_output/cone_bbg_5.npy already exists, incrementing index to 6\n",
      "File ../../../content/batch_output/cone_bbg_6.npy already exists, incrementing index to 7\n",
      "File ../../../content/batch_output/cone_bbg_7.npy already exists, incrementing index to 8\n",
      "File ../../../content/batch_output/cone_bbg_8.npy already exists, incrementing index to 9\n",
      "File ../../../content/batch_output/cone_bbg_9.npy already exists, incrementing index to 10\n",
      "File ../../../content/batch_output/cone_bbg_10.npy already exists, incrementing index to 11\n",
      "File ../../../content/batch_output/cone_bbg_11.npy already exists, incrementing index to 12\n",
      "File ../../../content/batch_output/cone_bbg_12.npy already exists, incrementing index to 13\n",
      "File ../../../content/batch_output/cone_bbg_13.npy already exists, incrementing index to 14\n",
      "File ../../../content/batch_output/cone_bbg_14.npy already exists, incrementing index to 15\n",
      "File ../../../content/batch_output/cone_bbg_15.npy already exists, incrementing index to 16\n",
      "File ../../../content/batch_output/cone_bbg_16.npy already exists, incrementing index to 17\n",
      "File ../../../content/batch_output/cone_bbg_17.npy already exists, incrementing index to 18\n",
      "File ../../../content/batch_output/cone_bbg_18.npy already exists, incrementing index to 19\n",
      "File ../../../content/batch_output/cone_bbg_19.npy already exists, incrementing index to 20\n",
      "File ../../../content/batch_output/cone_bbg_20.npy already exists, incrementing index to 21\n",
      "File ../../../content/batch_output/cone_bbg_21.npy already exists, incrementing index to 22\n",
      "Saved latent vector to ../../../content/batch_output/cone_bbg_22.npy\n",
      "Saved gif to ../../../content/batch_output/cone_bbg_22.gif\n"
     ]
    },
    {
     "data": {
      "application/vnd.jupyter.widget-view+json": {
       "model_id": "537132ec31c9459c9347a8da5e5be6c8",
       "version_major": 2,
       "version_minor": 0
      },
      "text/plain": [
       "  0%|          | 0/64 [00:00<?, ?it/s]"
      ]
     },
     "metadata": {},
     "output_type": "display_data"
    },
    {
     "name": "stdout",
     "output_type": "stream",
     "text": [
      "File ../../../content/batch_output/cone_tall_bbg_0.npy already exists, incrementing index to 1\n",
      "File ../../../content/batch_output/cone_tall_bbg_1.npy already exists, incrementing index to 2\n",
      "File ../../../content/batch_output/cone_tall_bbg_2.npy already exists, incrementing index to 3\n",
      "File ../../../content/batch_output/cone_tall_bbg_3.npy already exists, incrementing index to 4\n",
      "File ../../../content/batch_output/cone_tall_bbg_4.npy already exists, incrementing index to 5\n",
      "File ../../../content/batch_output/cone_tall_bbg_5.npy already exists, incrementing index to 6\n",
      "File ../../../content/batch_output/cone_tall_bbg_6.npy already exists, incrementing index to 7\n",
      "File ../../../content/batch_output/cone_tall_bbg_7.npy already exists, incrementing index to 8\n",
      "File ../../../content/batch_output/cone_tall_bbg_8.npy already exists, incrementing index to 9\n",
      "File ../../../content/batch_output/cone_tall_bbg_9.npy already exists, incrementing index to 10\n",
      "File ../../../content/batch_output/cone_tall_bbg_10.npy already exists, incrementing index to 11\n",
      "File ../../../content/batch_output/cone_tall_bbg_11.npy already exists, incrementing index to 12\n",
      "File ../../../content/batch_output/cone_tall_bbg_12.npy already exists, incrementing index to 13\n",
      "File ../../../content/batch_output/cone_tall_bbg_13.npy already exists, incrementing index to 14\n",
      "File ../../../content/batch_output/cone_tall_bbg_14.npy already exists, incrementing index to 15\n",
      "File ../../../content/batch_output/cone_tall_bbg_15.npy already exists, incrementing index to 16\n",
      "File ../../../content/batch_output/cone_tall_bbg_16.npy already exists, incrementing index to 17\n",
      "File ../../../content/batch_output/cone_tall_bbg_17.npy already exists, incrementing index to 18\n",
      "File ../../../content/batch_output/cone_tall_bbg_18.npy already exists, incrementing index to 19\n",
      "File ../../../content/batch_output/cone_tall_bbg_19.npy already exists, incrementing index to 20\n",
      "File ../../../content/batch_output/cone_tall_bbg_20.npy already exists, incrementing index to 21\n",
      "File ../../../content/batch_output/cone_tall_bbg_21.npy already exists, incrementing index to 22\n",
      "Saved latent vector to ../../../content/batch_output/cone_tall_bbg_22.npy\n",
      "Saved gif to ../../../content/batch_output/cone_tall_bbg_22.gif\n"
     ]
    }
   ],
   "source": [
    "# additional runs\n",
    "for i in range(20):\n",
    "    process_images(input_folder, output_folder)"
   ]
  }
 ],
 "metadata": {
  "kernelspec": {
   "display_name": "Python 3 (ipykernel)",
   "language": "python",
   "name": "python3"
  },
  "language_info": {
   "codemirror_mode": {
    "name": "ipython",
    "version": 3
   },
   "file_extension": ".py",
   "mimetype": "text/x-python",
   "name": "python",
   "nbconvert_exporter": "python",
   "pygments_lexer": "ipython3",
   "version": "3.9.16"
  }
 },
 "nbformat": 4,
 "nbformat_minor": 5
}
